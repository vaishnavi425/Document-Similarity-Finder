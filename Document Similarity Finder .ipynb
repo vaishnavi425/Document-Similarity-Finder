{
 "cells": [
  {
   "cell_type": "code",
   "execution_count": 8,
   "id": "7173a1db-f2a0-4647-95e1-d75fb6d380c7",
   "metadata": {},
   "outputs": [],
   "source": [
    "# Import all required libraries\n",
    "import os\n",
    "import re\n",
    "import numpy as np\n",
    "import pandas as pd\n",
    "import nltk\n",
    "from nltk.corpus import stopwords\n",
    "from nltk.stem import WordNetLemmatizer\n",
    "from sklearn.feature_extraction.text import TfidfVectorizer\n",
    "from sklearn.metrics.pairwise import cosine_similarity\n",
    "import seaborn as sns\n",
    "import matplotlib.pyplot as plt\n"
   ]
  },
  {
   "cell_type": "code",
   "execution_count": 9,
   "id": "bceacd99-2e37-4105-aa0d-ab759d265af6",
   "metadata": {},
   "outputs": [
    {
     "data": {
      "text/plain": [
       "True"
      ]
     },
     "execution_count": 9,
     "metadata": {},
     "output_type": "execute_result"
    }
   ],
   "source": [
    "# Download necessary NLTK data (only first time)\n",
    "nltk.download('stopwords', quiet=True)\n",
    "nltk.download('wordnet', quiet=True)\n",
    "nltk.download('omw-1.4', quiet=True)\n"
   ]
  },
  {
   "cell_type": "code",
   "execution_count": 10,
   "id": "ded9c33a-770f-4bb0-83bc-9655642aa82c",
   "metadata": {},
   "outputs": [],
   "source": [
    "documents = [\n",
    "    \"Machine learning is a subset of artificial intelligence.\",\n",
    "    \"Deep learning is a part of machine learning.\",\n",
    "    \"Natural language processing helps computers understand text.\",\n",
    "    \"Quantum computing is a new field of research.\",\n",
    "    \"AI and ML are revolutionizing technology.\"\n",
    "]\n"
   ]
  },
  {
   "cell_type": "code",
   "execution_count": 11,
   "id": "c08e5af5-06da-48d1-91c6-213236d48ce7",
   "metadata": {},
   "outputs": [
    {
     "name": "stdout",
     "output_type": "stream",
     "text": [
      "Cleaned Document 0: machine learning subset artificial intelligence \n",
      "\n",
      "Cleaned Document 1: deep learning part machine learning \n",
      "\n",
      "Cleaned Document 2: natural language processing help computer understand text \n",
      "\n",
      "Cleaned Document 3: quantum computing new field research \n",
      "\n",
      "Cleaned Document 4: ai ml revolutionizing technology \n",
      "\n"
     ]
    }
   ],
   "source": [
    "stop_words = set(stopwords.words('english'))\n",
    "lemmatizer = WordNetLemmatizer()\n",
    "\n",
    "\n",
    "def preprocess(text):\n",
    "\n",
    "    text = re.sub(r'[^a-zA-Z\\s]', '', text.lower())\n",
    "    \n",
    "    tokens = text.split()\n",
    "    \n",
    "    tokens = [lemmatizer.lemmatize(word) for word in tokens if word not in stop_words]\n",
    "    \n",
    "    return \" \".join(tokens)\n",
    "\n",
    "cleaned_docs = [preprocess(doc) for doc in documents]\n",
    "\n",
    "for i, doc in enumerate(cleaned_docs):\n",
    "    print(f\"Cleaned Document {i}:\", doc, \"\\n\")\n"
   ]
  },
  {
   "cell_type": "code",
   "execution_count": 12,
   "id": "a631d653-cc02-4cac-9da0-c9c358b4bcb2",
   "metadata": {},
   "outputs": [
    {
     "name": "stdout",
     "output_type": "stream",
     "text": [
      "TF-IDF Matrix Shape: (5, 23)\n"
     ]
    }
   ],
   "source": [
    "vectorizer = TfidfVectorizer()\n",
    "tfidf_matrix = vectorizer.fit_transform(cleaned_docs)\n",
    "\n",
    "print(\"TF-IDF Matrix Shape:\", tfidf_matrix.shape)\n"
   ]
  },
  {
   "cell_type": "code",
   "execution_count": 13,
   "id": "68d37ea5-e0f7-493d-b211-854954ee98c5",
   "metadata": {},
   "outputs": [
    {
     "name": "stdout",
     "output_type": "stream",
     "text": [
      "Cosine Similarity Matrix:\n",
      " [[1.        0.4107244 0.        0.        0.       ]\n",
      " [0.4107244 1.        0.        0.        0.       ]\n",
      " [0.        0.        1.        0.        0.       ]\n",
      " [0.        0.        0.        1.        0.       ]\n",
      " [0.        0.        0.        0.        1.       ]]\n"
     ]
    }
   ],
   "source": [
    "similarity_matrix = cosine_similarity(tfidf_matrix)\n",
    "print(\"Cosine Similarity Matrix:\\n\", similarity_matrix)\n"
   ]
  },
  {
   "cell_type": "code",
   "execution_count": 14,
   "id": "01bac642-ebca-49e8-8616-a2929a6f80dd",
   "metadata": {},
   "outputs": [
    {
     "name": "stdout",
     "output_type": "stream",
     "text": [
      "\n",
      "Top 3 Most Similar Document Pairs:\n",
      "\n",
      "Documents 0 and 1 → Similarity: 0.411\n",
      "Documents 0 and 2 → Similarity: 0.000\n",
      "Documents 0 and 3 → Similarity: 0.000\n"
     ]
    }
   ],
   "source": [
    "pairs = []\n",
    "n = len(documents)\n",
    "\n",
    "# Compare every pair of documents\n",
    "for i in range(n):\n",
    "    for j in range(i+1, n):\n",
    "        pairs.append(((i, j), similarity_matrix[i][j]))\n",
    "\n",
    "# Sort by similarity score (descending)\n",
    "sorted_pairs = sorted(pairs, key=lambda x: x[1], reverse=True)\n",
    "\n",
    "print(\"\\nTop 3 Most Similar Document Pairs:\\n\")\n",
    "for pair, score in sorted_pairs[:3]:\n",
    "    print(f\"Documents {pair[0]} and {pair[1]} → Similarity: {score:.3f}\")\n"
   ]
  },
  {
   "cell_type": "code",
   "execution_count": 15,
   "id": "b6bc0c9f-5aa0-4122-b77d-91f9f81a741b",
   "metadata": {},
   "outputs": [
    {
     "data": {
      "image/png": "[encoded data removed]",
      "text/plain": [
       "<Figure size 800x600 with 2 Axes>"
      ]
     },
     "metadata": {},
     "output_type": "display_data"
    }
   ],
   "source": [
    "plt.figure(figsize=(8,6))\n",
    "sns.heatmap(similarity_matrix, annot=True, cmap='coolwarm')\n",
    "plt.title(\"Document Similarity Matrix\")\n",
    "plt.xlabel(\"Document Index\")\n",
    "plt.ylabel(\"Document Index\")\n",
    "plt.show()\n"
   ]
  },
  {
   "cell_type": "code",
   "execution_count": null,
   "id": "75b8e802-b06b-4eac-bba0-a71fb2f7144d",
   "metadata": {},
   "outputs": [],
   "source": []
  }
 ],
 "metadata": {
  "kernelspec": {
   "display_name": "Python 3 (ipykernel)",
   "language": "python",
   "name": "python3"
  },
  "language_info": {
   "codemirror_mode": {
    "name": "ipython",
    "version": 3
   },
   "file_extension": ".py",
   "mimetype": "text/x-python",
   "name": "python",
   "nbconvert_exporter": "python",
   "pygments_lexer": "ipython3",
   "version": "3.13.5"
  }
 },
 "nbformat": 4,
 "nbformat_minor": 5
}
